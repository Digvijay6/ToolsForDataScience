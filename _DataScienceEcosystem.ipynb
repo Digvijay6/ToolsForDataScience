{
 "cells": [
  {
   "cell_type": "markdown",
   "id": "8cd83afc-9883-4ed6-a14f-aca1f1ba932d",
   "metadata": {},
   "source": [
    "#  Data Science Tools and Ecosystem"
   ]
  },
  {
   "cell_type": "markdown",
   "id": "212ff174-d284-4451-83cc-902709fea10e",
   "metadata": {},
   "source": [
    "In this notebook various data science tools and environments related to data science are summarized."
   ]
  },
  {
   "cell_type": "markdown",
   "id": "1bf061cc-e2cd-412b-97eb-bd46cc97311e",
   "metadata": {},
   "source": [
    "__Objectives:__<br>\n",
    "- List of popular languages\n",
    "- List of popular Libraries\n",
    "- List of Data Science tools\n",
    "- Example of arithmetic operation\n",
    "- Conversion of minutes to hours"
   ]
  },
  {
   "cell_type": "markdown",
   "id": "d9dfa8dc-a2a9-4d6c-beb6-34bb334cb2be",
   "metadata": {},
   "source": [
    "Some popular languages that data scientist use are as follows: <br>\n",
    "1. Python\n",
    "2. R \n",
    "3. Javascript\n",
    "4. Scala"
   ]
  },
  {
   "cell_type": "markdown",
   "id": "70e7cb5c-df65-46d1-a006-c2508006c35a",
   "metadata": {},
   "source": [
    "Some of the popular libraries used are:<br>\n",
    "1. Matplotlib\n",
    "2. scikit-learn\n",
    "3. Tensorflow\n",
    "4. Numpy\n",
    "5. Pandas"
   ]
  },
  {
   "cell_type": "markdown",
   "id": "e95d00ad-1c82-461b-9ae7-1b1b4370d6c6",
   "metadata": {},
   "source": [
    "| Data Science tools|\n",
    "|-------------------|\n",
    "|Jupyter Lab        |\n",
    "|R studio           |\n",
    "|Spyder             |"
   ]
  },
  {
   "cell_type": "markdown",
   "id": "5bf7e76b-8fc8-42fd-a69d-e06d34488ba6",
   "metadata": {},
   "source": [
    "### Below are few example of different arithmetic operations"
   ]
  },
  {
   "cell_type": "code",
   "execution_count": 3,
   "id": "fb547a75-2853-4135-a4d3-acbfcf3e138b",
   "metadata": {},
   "outputs": [
    {
     "data": {
      "text/plain": [
       "17"
      ]
     },
     "execution_count": 3,
     "metadata": {},
     "output_type": "execute_result"
    }
   ],
   "source": [
    "#this is a smple expressions that multiplies and adds integers\n",
    "(3*4)+5"
   ]
  },
  {
   "cell_type": "code",
   "execution_count": 5,
   "id": "49c06c21-3e60-40e1-838d-2ce066cc2720",
   "metadata": {},
   "outputs": [
    {
     "name": "stdout",
     "output_type": "stream",
     "text": [
      "3  hours 20  minutes\n"
     ]
    }
   ],
   "source": [
    "#this expression will convert 200 minutes into hours\n",
    "print(200//60,\" hours\",200%60,\" minutes\")\n"
   ]
  },
  {
   "attachments": {},
   "cell_type": "markdown",
   "id": "0a5f67d0-20f4-4784-bcde-34451fba349c",
   "metadata": {},
   "source": [
    "Author\n",
    "## Digvijay Singh Bisht"
   ]
  },
  {
   "cell_type": "code",
   "execution_count": null,
   "id": "782192cc-7abe-47a9-8499-37b6998f178b",
   "metadata": {},
   "outputs": [],
   "source": []
  }
 ],
 "metadata": {
  "kernelspec": {
   "display_name": "Python",
   "language": "python",
   "name": "conda-env-python-py"
  },
  "language_info": {
   "codemirror_mode": {
    "name": "ipython",
    "version": 3
   },
   "file_extension": ".py",
   "mimetype": "text/x-python",
   "name": "python",
   "nbconvert_exporter": "python",
   "pygments_lexer": "ipython3",
   "version": "3.7.12"
  }
 },
 "nbformat": 4,
 "nbformat_minor": 5
}
